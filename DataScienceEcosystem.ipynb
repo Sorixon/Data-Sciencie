{
 "cells": [
  {
   "cell_type": "markdown",
   "id": "ae9635a6-37c4-48de-9011-63e5987c83ed",
   "metadata": {},
   "source": [
    "# Data Science Tools and Ecosystem"
   ]
  },
  {
   "cell_type": "markdown",
   "id": "645cb0fb-78ce-485c-bc1a-7348e94a66b5",
   "metadata": {},
   "source": [
    "#### W tym notatniku podsumowane są narzędzia i ekosystemy Data Science.\n"
   ]
  },
  {
   "cell_type": "markdown",
   "id": "098824a6-592a-4cc8-af32-360735a7c464",
   "metadata": {},
   "source": [
    "### **Cele:**\n",
    "- Wymień popularne języki dla Data Science\n",
    "- Wymień powszechnie używane biblioteki przez Data Scientists\n",
    "- Wymień przykłady oceny wyrażeń arytmetycznych\n",
    "\n"
   ]
  },
  {
   "cell_type": "markdown",
   "id": "8e7bda27-cf32-47ba-a2d5-21706392b258",
   "metadata": {},
   "source": [
    "#### Niektóre z popularnych języków, które używają Data Scientists, to:\n",
    "1. R\n",
    "2. Python\n",
    "3. Java"
   ]
  },
  {
   "cell_type": "markdown",
   "id": "b22aa2e7-0601-4611-8dba-cf8900d06032",
   "metadata": {},
   "source": [
    "#### Niektóre z powszechnie używanych bibliotek przez Data Scientists to:\n",
    "1. Pandas\n",
    "2. Matplotlib\n",
    "3. Numpy"
   ]
  },
  {
   "cell_type": "markdown",
   "id": "23b85e52-8994-42b4-aa52-9df5f7dac3cf",
   "metadata": {},
   "source": [
    "|Narzędzia Data Science|\n",
    "|-----|\n",
    "|JupiterNotebook|\n",
    "|ApacheAirflow|\n",
    "|Rstudio|"
   ]
  },
  {
   "cell_type": "markdown",
   "id": "2f2a7410-75b3-46fb-ac2a-7d36d7e7da80",
   "metadata": {},
   "source": [
    "### Poniżej znajdują się przykłady oceny wyrażeń arytmetycznych w Pythonie"
   ]
  },
  {
   "cell_type": "code",
   "execution_count": null,
   "id": "bc8f03ca-ce51-4e51-bbd8-99c891cb6e84",
   "metadata": {},
   "outputs": [],
   "source": [
    "#o jest proste wyrażenie arytmetyczne do pomnożenia, a następnie dodania liczb całkowitych"
   ]
  },
  {
   "cell_type": "code",
   "execution_count": 16,
   "id": "b16eac7b-fec2-42ac-bb55-08dcb601ee1b",
   "metadata": {},
   "outputs": [
    {
     "data": {
      "text/plain": [
       "17"
      ]
     },
     "execution_count": 16,
     "metadata": {},
     "output_type": "execute_result"
    }
   ],
   "source": [
    "(3*4)+5"
   ]
  },
  {
   "cell_type": "code",
   "execution_count": null,
   "id": "3277b0cd-4692-4f24-b5f8-c634ad64b9cd",
   "metadata": {},
   "outputs": [],
   "source": [
    "#To przeliczy 200 minut na godziny, dzieląc przez 60"
   ]
  },
  {
   "cell_type": "code",
   "execution_count": 18,
   "id": "97ba1209-ef08-411f-b8ed-51983ea84212",
   "metadata": {},
   "outputs": [
    {
     "data": {
      "text/plain": [
       "3.3333333333333335"
      ]
     },
     "execution_count": 18,
     "metadata": {},
     "output_type": "execute_result"
    }
   ],
   "source": [
    "200/60"
   ]
  },
  {
   "cell_type": "markdown",
   "id": "7c0516be-57fd-43b4-911d-fe65d212d14e",
   "metadata": {},
   "source": [
    "## Autor"
   ]
  },
  {
   "cell_type": "markdown",
   "id": "2f63c88f-d3e0-4f13-913d-c5469ee16ecb",
   "metadata": {},
   "source": [
    "### Karol "
   ]
  },
  {
   "cell_type": "code",
   "execution_count": null,
   "id": "6452ebdf-dadc-4405-ba94-cf566d289d2b",
   "metadata": {},
   "outputs": [],
   "source": []
  }
 ],
 "metadata": {
  "kernelspec": {
   "display_name": "Python [conda env:base] *",
   "language": "python",
   "name": "conda-base-py"
  },
  "language_info": {
   "codemirror_mode": {
    "name": "ipython",
    "version": 3
   },
   "file_extension": ".py",
   "mimetype": "text/x-python",
   "name": "python",
   "nbconvert_exporter": "python",
   "pygments_lexer": "ipython3",
   "version": "3.12.7"
  }
 },
 "nbformat": 4,
 "nbformat_minor": 5
}
